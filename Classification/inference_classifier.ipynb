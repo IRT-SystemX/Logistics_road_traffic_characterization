{
 "cells": [
  {
   "cell_type": "code",
   "execution_count": 13,
   "id": "f197fc57",
   "metadata": {},
   "outputs": [],
   "source": [
    "import tensorflow as tf\n",
    "import keras\n",
    "from keras.layers import Dense, Flatten\n",
    "from sklearn.metrics import confusion_matrix, accuracy_score\n",
    "import matplotlib.pyplot as plt\n",
    "import numpy as np\n",
    "import pandas as pd\n",
    "\n",
    "tf.config.run_functions_eagerly(True)"
   ]
  },
  {
   "cell_type": "code",
   "execution_count": null,
   "id": "8e273b30",
   "metadata": {},
   "outputs": [],
   "source": [
    "print(tf.__version__)"
   ]
  },
  {
   "attachments": {},
   "cell_type": "markdown",
   "id": "06574372",
   "metadata": {},
   "source": [
    "### Load model"
   ]
  },
  {
   "cell_type": "code",
   "execution_count": 15,
   "id": "558a4678",
   "metadata": {},
   "outputs": [],
   "source": [
    "model = keras.models.load_model('model_ResNet50.h5')\n",
    "model.compile(run_eagerly=True)"
   ]
  },
  {
   "cell_type": "code",
   "execution_count": 19,
   "id": "71370638",
   "metadata": {},
   "outputs": [],
   "source": [
    "%%time\n",
    "categories_dict = {\"car\":0, \"light commercial vehicle\":1,\"truck\":2,\"minibus & van\":3,\"ambulance\":4,\"bus\":5,\"FP\":6}\n",
    "nb_classes = 7\n",
    "df = pd.read_csv(\"SP01-CAM-04.csv\", sep=';')\n",
    "X = []\n",
    "Y = []\n",
    "vehicle_smart_pole = []\n",
    "vehicle_day = []\n",
    "\n",
    "# Get images in arrays\n",
    "for index,row in enumerate(df.iterrows()):\n",
    "    image_name = row[1]['path']\n",
    "    image= tf.keras.preprocessing.image.load_img(image_name, color_mode='rgb', target_size=(224,224))\n",
    "    image= np.array(image)\n",
    "    X.append(image)\n",
    "    vehicle_smart_pole.append(row[1][\"smart_pole\"])\n",
    "    vehicle_day.append(row[1][\"day\"])"
   ]
  },
  {
   "cell_type": "code",
   "execution_count": null,
   "id": "e04c758f",
   "metadata": {},
   "outputs": [],
   "source": [
    "%%time\n",
    "X1 = np.array(X[:31667])\n",
    "predictions1 = model.predict(X1)"
   ]
  },
  {
   "cell_type": "code",
   "execution_count": 16,
   "id": "96e90feb",
   "metadata": {},
   "outputs": [
    {
     "name": "stdout",
     "output_type": "stream",
     "text": [
      "Initial position : 31667\n"
     ]
    },
    {
     "ename": "ValueError",
     "evalue": "Unexpected result of `predict_function` (Empty batch_outputs). Please use `Model.compile(..., run_eagerly=True)`, or `tf.config.run_functions_eagerly(True)` for more information of where went wrong, or file a issue/bug to `tf.keras`.",
     "output_type": "error",
     "traceback": [
      "\u001b[1;31m---------------------------------------------------------------------------\u001b[0m",
      "\u001b[1;31mValueError\u001b[0m                                Traceback (most recent call last)",
      "\u001b[1;32mC:\\Users\\LUCAS~1.MAT\\AppData\\Local\\Temp/ipykernel_18436/1860775682.py\u001b[0m in \u001b[0;36m<module>\u001b[1;34m\u001b[0m\n\u001b[0;32m     12\u001b[0m \u001b[1;33m\u001b[0m\u001b[0m\n\u001b[0;32m     13\u001b[0m     \u001b[0minitial_position\u001b[0m \u001b[1;33m+=\u001b[0m \u001b[0mblock_size\u001b[0m\u001b[1;33m\u001b[0m\u001b[1;33m\u001b[0m\u001b[0m\n\u001b[1;32m---> 14\u001b[1;33m     \u001b[0mcurrent_predictions\u001b[0m \u001b[1;33m=\u001b[0m \u001b[0mmodel\u001b[0m\u001b[1;33m.\u001b[0m\u001b[0mpredict\u001b[0m\u001b[1;33m(\u001b[0m\u001b[0mcurrent_x\u001b[0m\u001b[1;33m)\u001b[0m\u001b[1;33m\u001b[0m\u001b[1;33m\u001b[0m\u001b[0m\n\u001b[0m\u001b[0;32m     15\u001b[0m \u001b[1;33m\u001b[0m\u001b[0m\n\u001b[0;32m     16\u001b[0m \u001b[1;33m\u001b[0m\u001b[0m\n",
      "\u001b[1;32mc:\\Users\\lucas.mattioli\\Miniconda3\\lib\\site-packages\\keras\\utils\\traceback_utils.py\u001b[0m in \u001b[0;36merror_handler\u001b[1;34m(*args, **kwargs)\u001b[0m\n\u001b[0;32m     65\u001b[0m     \u001b[1;32mexcept\u001b[0m \u001b[0mException\u001b[0m \u001b[1;32mas\u001b[0m \u001b[0me\u001b[0m\u001b[1;33m:\u001b[0m  \u001b[1;31m# pylint: disable=broad-except\u001b[0m\u001b[1;33m\u001b[0m\u001b[1;33m\u001b[0m\u001b[0m\n\u001b[0;32m     66\u001b[0m       \u001b[0mfiltered_tb\u001b[0m \u001b[1;33m=\u001b[0m \u001b[0m_process_traceback_frames\u001b[0m\u001b[1;33m(\u001b[0m\u001b[0me\u001b[0m\u001b[1;33m.\u001b[0m\u001b[0m__traceback__\u001b[0m\u001b[1;33m)\u001b[0m\u001b[1;33m\u001b[0m\u001b[1;33m\u001b[0m\u001b[0m\n\u001b[1;32m---> 67\u001b[1;33m       \u001b[1;32mraise\u001b[0m \u001b[0me\u001b[0m\u001b[1;33m.\u001b[0m\u001b[0mwith_traceback\u001b[0m\u001b[1;33m(\u001b[0m\u001b[0mfiltered_tb\u001b[0m\u001b[1;33m)\u001b[0m \u001b[1;32mfrom\u001b[0m \u001b[1;32mNone\u001b[0m\u001b[1;33m\u001b[0m\u001b[1;33m\u001b[0m\u001b[0m\n\u001b[0m\u001b[0;32m     68\u001b[0m     \u001b[1;32mfinally\u001b[0m\u001b[1;33m:\u001b[0m\u001b[1;33m\u001b[0m\u001b[1;33m\u001b[0m\u001b[0m\n\u001b[0;32m     69\u001b[0m       \u001b[1;32mdel\u001b[0m \u001b[0mfiltered_tb\u001b[0m\u001b[1;33m\u001b[0m\u001b[1;33m\u001b[0m\u001b[0m\n",
      "\u001b[1;32mc:\\Users\\lucas.mattioli\\Miniconda3\\lib\\site-packages\\keras\\engine\\training.py\u001b[0m in \u001b[0;36mpredict\u001b[1;34m(self, x, batch_size, verbose, steps, callbacks, max_queue_size, workers, use_multiprocessing)\u001b[0m\n\u001b[0;32m   2046\u001b[0m             \u001b[0mcallbacks\u001b[0m\u001b[1;33m.\u001b[0m\u001b[0mon_predict_batch_end\u001b[0m\u001b[1;33m(\u001b[0m\u001b[0mend_step\u001b[0m\u001b[1;33m,\u001b[0m \u001b[1;33m{\u001b[0m\u001b[1;34m'outputs'\u001b[0m\u001b[1;33m:\u001b[0m \u001b[0mbatch_outputs\u001b[0m\u001b[1;33m}\u001b[0m\u001b[1;33m)\u001b[0m\u001b[1;33m\u001b[0m\u001b[1;33m\u001b[0m\u001b[0m\n\u001b[0;32m   2047\u001b[0m       \u001b[1;32mif\u001b[0m \u001b[0mbatch_outputs\u001b[0m \u001b[1;32mis\u001b[0m \u001b[1;32mNone\u001b[0m\u001b[1;33m:\u001b[0m\u001b[1;33m\u001b[0m\u001b[1;33m\u001b[0m\u001b[0m\n\u001b[1;32m-> 2048\u001b[1;33m         raise ValueError('Unexpected result of `predict_function` '\n\u001b[0m\u001b[0;32m   2049\u001b[0m                          \u001b[1;34m'(Empty batch_outputs). Please use '\u001b[0m\u001b[1;33m\u001b[0m\u001b[1;33m\u001b[0m\u001b[0m\n\u001b[0;32m   2050\u001b[0m                          \u001b[1;34m'`Model.compile(..., run_eagerly=True)`, or '\u001b[0m\u001b[1;33m\u001b[0m\u001b[1;33m\u001b[0m\u001b[0m\n",
      "\u001b[1;31mValueError\u001b[0m: Unexpected result of `predict_function` (Empty batch_outputs). Please use `Model.compile(..., run_eagerly=True)`, or `tf.config.run_functions_eagerly(True)` for more information of where went wrong, or file a issue/bug to `tf.keras`."
     ]
    }
   ],
   "source": [
    "block_size = 1000\n",
    "initial_position = 31667\n",
    "lenght = len(X)\n",
    "continue_inference = True\n",
    "while continue_inference:\n",
    "    print(\"Initial position :\", initial_position)\n",
    "    if lenght > initial_position + block_size:\n",
    "        current_x = np.array(X[initial_position:initial_position+block_size])\n",
    "    else : \n",
    "        current_x = np.array(X[initial_position:])\n",
    "        continue_inference = False\n",
    "       \n",
    "    initial_position += block_size\n",
    "    current_predictions = model.predict(current_x)\n",
    "    \n",
    "    \n",
    "    with open(\"inférence_save_SP01-CAM-03_part1.csv\",\"a\") as file:\n",
    "        for pred in current_predictions:\n",
    "            file.write(str(np.argmax(pred))+'\\n')\n",
    "            \n",
    "    %reset_selective -f \"^current_x$\" \n",
    "    %reset_selective -f \"^current_predictions$\""
   ]
  },
  {
   "cell_type": "code",
   "execution_count": null,
   "id": "bb21a6ac",
   "metadata": {},
   "outputs": [],
   "source": [
    "X1 = []\n",
    "X1 = np.array(X[31667:])"
   ]
  },
  {
   "cell_type": "code",
   "execution_count": null,
   "id": "bfeabaa7",
   "metadata": {},
   "outputs": [],
   "source": [
    "print(len(predictions1))"
   ]
  },
  {
   "cell_type": "code",
   "execution_count": null,
   "id": "b6351252",
   "metadata": {},
   "outputs": [],
   "source": [
    "with open(\"inférence_save_SP01-CAM-03_part1.csv\",\"w\") as file:\n",
    "    file.write('category\\n')\n",
    "    for pred in predictions1:\n",
    "        file.write(str(np.argmax(pred))+'\\n')"
   ]
  },
  {
   "cell_type": "code",
   "execution_count": null,
   "id": "0d2287ab",
   "metadata": {},
   "outputs": [],
   "source": [
    "%%time\n",
    "predictions2 = model.predict(X1)"
   ]
  },
  {
   "cell_type": "code",
   "execution_count": null,
   "id": "a943b624",
   "metadata": {},
   "outputs": [],
   "source": [
    "# to do : predictions = predictions1 + predictions2"
   ]
  },
  {
   "cell_type": "code",
   "execution_count": null,
   "id": "932204a6",
   "metadata": {},
   "outputs": [],
   "source": [
    "df['category'] = np.argmax(predictions1, axis=1)"
   ]
  },
  {
   "cell_type": "code",
   "execution_count": null,
   "id": "8710d03a",
   "metadata": {},
   "outputs": [],
   "source": [
    "for index,row in enumerate(df.iterrows()):\n",
    "    if 'bicycle' in row[1]['path']:\n",
    "        smaller_df.loc[index,'category'] = 7\n",
    "    elif 'motorcycle' in row[1]['path']:\n",
    "        smaller_df.loc[index,'category'] = 8\n",
    "        "
   ]
  },
  {
   "cell_type": "code",
   "execution_count": null,
   "id": "2a45ea4e",
   "metadata": {},
   "outputs": [],
   "source": [
    "time_slots = []\n",
    "for current_time in df['time']:\n",
    "    current_hour = int(current_time.split('-')[0])\n",
    "    if current_hour == 1: \n",
    "        current_hour = int(current_time.split('-')[1])\n",
    "    if current_hour == 7 or current_hour == 8:\n",
    "        time_slots.append(\"7h-9h\")\n",
    "    elif current_hour == 9 or current_hour == 10:\n",
    "        time_slots.append(\"9h-11h\")\n",
    "    elif current_hour == 15 or current_hour == 16:\n",
    "        time_slots.append(\"15h-17h\")\n",
    "    else:\n",
    "        print(\"pb here :\", current_time)"
   ]
  },
  {
   "cell_type": "code",
   "execution_count": null,
   "id": "c8d8d7b1",
   "metadata": {},
   "outputs": [],
   "source": [
    "df['time_slot'] = time_slots"
   ]
  },
  {
   "cell_type": "code",
   "execution_count": null,
   "id": "5248cc59",
   "metadata": {},
   "outputs": [],
   "source": [
    "df.to_csv(\"inference_results_SP01-CAM-03_part1.csv\",index=False)"
   ]
  },
  {
   "cell_type": "code",
   "execution_count": null,
   "id": "98ad7fc7",
   "metadata": {},
   "outputs": [],
   "source": []
  },
  {
   "cell_type": "markdown",
   "id": "5248eded",
   "metadata": {},
   "source": [
    "# Add time slot"
   ]
  },
  {
   "cell_type": "code",
   "execution_count": null,
   "id": "54b02c59",
   "metadata": {},
   "outputs": [],
   "source": [
    "df = pd.read_csv(\"SP01-CAM-04_inference.csv\", sep=';')\n",
    "for index,row in enumerate(df.iterrows()):\n",
    "    if 'bicycle' in row[1]['path']:\n",
    "        df.loc[index,'category'] = 7\n",
    "    elif 'motorcycle' in row[1]['path']:\n",
    "        df.loc[index,'category'] = 8\n",
    "\n",
    "time_slots = []\n",
    "for current_time in df['time']:\n",
    "    current_hour = int(current_time.split('-')[0])\n",
    "    if current_hour == 1: \n",
    "        current_hour = int(current_time.split('-')[1])\n",
    "    if current_hour == 7 or current_hour == 8:\n",
    "        time_slots.append(\"7h-9h\")\n",
    "    elif current_hour == 9 or current_hour == 10:\n",
    "        time_slots.append(\"9h-11h\")\n",
    "    elif current_hour == 15 or current_hour == 16:\n",
    "        time_slots.append(\"15h-17h\")\n",
    "    else:\n",
    "        print(\"pb here :\", current_time)\n",
    "\n",
    "df['time_slot'] = time_slots\n",
    "df.to_csv(\"SP01-CAM-04_results.csv\",index=False)"
   ]
  },
  {
   "cell_type": "code",
   "execution_count": null,
   "id": "9ee370e2",
   "metadata": {},
   "outputs": [],
   "source": [
    "print(df)"
   ]
  },
  {
   "cell_type": "markdown",
   "id": "eb2145b1",
   "metadata": {},
   "source": [
    "# Inference for SP01-CAM-03_part2"
   ]
  },
  {
   "cell_type": "code",
   "execution_count": null,
   "id": "f3a3246d",
   "metadata": {},
   "outputs": [],
   "source": [
    "%%time\n",
    "categories_dict = {\"car\":0, \"light commercial vehicle\":1,\"truck\":2,\"minibus & van\":3,\"ambulance\":4,\"bus\":5,\"FP\":6}\n",
    "nb_classes = 7\n",
    "df = pd.read_csv(\"database_for_inference_SP01-CAM-03_part2.csv\")\n",
    "X = []\n",
    "Y = []\n",
    "vehicle_smart_pole = []\n",
    "vehicle_day = []\n",
    "# Get images in arrays\n",
    "\n",
    "#smaller_df = df.sample(n = 10_000, ignore_index=True)\n",
    "\n",
    "\n",
    "for index,row in enumerate(df.iterrows()):\n",
    "    image_name = row[1]['path']\n",
    "    image=tf.keras.preprocessing.image.load_img(image_name, color_mode='rgb', target_size=(224,224))\n",
    "    image=np.array(image)\n",
    "    X.append(image)\n",
    "    vehicle_smart_pole.append(row[1][\"smart_pole\"])\n",
    "    vehicle_day.append(row[1][\"day\"])\n",
    "    \n",
    "X = np.array(X)\n",
    "print(\"Len(X) :\", len(X))\n",
    "\n",
    "    \n",
    "%%time\n",
    "predictions = model.predict(X)\n",
    "\n",
    "df['category'] = np.argmax(predictions, axis=1)\n",
    "for index,row in enumerate(df.iterrows()):\n",
    "    if 'bicycle' in row[1]['path']:\n",
    "        smaller_df.loc[index,'category'] = 7\n",
    "    elif 'motorcycle' in row[1]['path']:\n",
    "        smaller_df.loc[index,'category'] = 8\n",
    "        \n",
    "time_slots = []\n",
    "for current_time in df['time']:\n",
    "    current_hour = int(current_time.split('-')[0])\n",
    "    if current_hour == 1: \n",
    "        current_hour = int(current_time.split('-')[1])\n",
    "    if current_hour == 7 or current_hour == 8:\n",
    "        time_slots.append(\"7h-9h\")\n",
    "    elif current_hour == 9 or current_hour == 10:\n",
    "        time_slots.append(\"9h-11h\")\n",
    "    elif current_hour == 15 or current_hour == 16:\n",
    "        time_slots.append(\"9h-11h\")\n",
    "    else:\n",
    "        print(\"pb here :\", current_time)\n",
    "        \n",
    "df['time_slot'] = time_slots\n",
    "\n",
    "df.to_csv(\"inference_results_SP01-CAM-03_part2.csv\",index=False)"
   ]
  },
  {
   "cell_type": "markdown",
   "id": "cc366d44",
   "metadata": {},
   "source": [
    "# Inference for SP01-CAM-04"
   ]
  },
  {
   "cell_type": "code",
   "execution_count": null,
   "id": "3c0cc036",
   "metadata": {},
   "outputs": [],
   "source": [
    "%%time\n",
    "categories_dict = {\"car\":0, \"light commercial vehicle\":1,\"truck\":2,\"minibus & van\":3,\"ambulance\":4,\"bus\":5,\"FP\":6}\n",
    "nb_classes = 7\n",
    "df = pd.read_csv(\"database_for_inference_SP01-CAM-04.csv\")\n",
    "X = []\n",
    "Y = []\n",
    "vehicle_smart_pole = []\n",
    "vehicle_day = []\n",
    "# Get images in arrays\n",
    "\n",
    "#smaller_df = df.sample(n = 10_000, ignore_index=True)\n",
    "\n",
    "\n",
    "for index,row in enumerate(df.iterrows()):\n",
    "    image_name = row[1]['path']\n",
    "    image=tf.keras.preprocessing.image.load_img(image_name, color_mode='rgb', target_size=(224,224))\n",
    "    image=np.array(image)\n",
    "    X.append(image)\n",
    "    vehicle_smart_pole.append(row[1][\"smart_pole\"])\n",
    "    vehicle_day.append(row[1][\"day\"])\n",
    "    \n",
    "X = np.array(X)\n",
    "print(\"Len(X) :\", len(X))\n",
    "\n",
    "    \n",
    "%%time\n",
    "predictions = model.predict(X)\n",
    "\n",
    "df['category'] = np.argmax(predictions, axis=1)\n",
    "for index,row in enumerate(df.iterrows()):\n",
    "    if 'bicycle' in row[1]['path']:\n",
    "        smaller_df.loc[index,'category'] = 7\n",
    "    elif 'motorcycle' in row[1]['path']:\n",
    "        smaller_df.loc[index,'category'] = 8\n",
    "        \n",
    "time_slots = []\n",
    "for current_time in df['time']:\n",
    "    current_hour = int(current_time.split('-')[0])\n",
    "    if current_hour == 1: \n",
    "        current_hour = int(current_time.split('-')[1])\n",
    "    if current_hour == 7 or current_hour == 8:\n",
    "        time_slots.append(\"7h-9h\")\n",
    "    elif current_hour == 9 or current_hour == 10:\n",
    "        time_slots.append(\"9h-11h\")\n",
    "    elif current_hour == 15 or current_hour == 16:\n",
    "        time_slots.append(\"9h-11h\")\n",
    "    else:\n",
    "        print(\"pb here :\", current_time)\n",
    "        \n",
    "df['time_slot'] = time_slots\n",
    "\n",
    "df.to_csv(\"inference_results_SP01-CAM-04.csv\",index=False)"
   ]
  },
  {
   "cell_type": "markdown",
   "id": "885139fd",
   "metadata": {},
   "source": [
    "# From frame to majoritary vehicle "
   ]
  },
  {
   "cell_type": "code",
   "execution_count": null,
   "id": "dc9b394b",
   "metadata": {},
   "outputs": [],
   "source": [
    "new_df = pd.DataFrame(columns=smaller_df.columns)"
   ]
  },
  {
   "cell_type": "code",
   "execution_count": null,
   "id": "bc06bc6e",
   "metadata": {},
   "outputs": [],
   "source": [
    "for vehicle_id in set(smaller_df['id']):\n",
    "    current_vehicle_df = smaller_df[smaller_df['id'] == vehicle_id]\n",
    "    print(current_vehicle_df['id'].iloc[0])\n",
    "    new_df = new_df.append(pd.DataFrame([[current_vehicle_df['path'].iloc[0],\n",
    "                                          current_vehicle_df['id'].iloc[0],\n",
    "                                          current_vehicle_df['day'].iloc[0],\n",
    "                                          current_vehicle_df['time'].iloc[0],\n",
    "                                          current_vehicle_df['smart_pole'].iloc[0],\n",
    "                                          current_vehicle_df['category'].mode()[0],\n",
    "                                          current_vehicle_df['time_slot'].iloc[0]]], columns=smaller_df.columns.values))\n",
    "    #print(current_vehicle_df['category'].mode()[0])\n",
    "    #print(smaller_df['id'].value_counts().idxmax())\n"
   ]
  },
  {
   "cell_type": "code",
   "execution_count": null,
   "id": "ad27cd27",
   "metadata": {},
   "outputs": [],
   "source": [
    "new_df.head(20)"
   ]
  },
  {
   "cell_type": "code",
   "execution_count": null,
   "id": "7716e463",
   "metadata": {},
   "outputs": [],
   "source": [
    "smaller_df.columns.values"
   ]
  },
  {
   "cell_type": "code",
   "execution_count": null,
   "id": "e224ca6b",
   "metadata": {},
   "outputs": [],
   "source": [
    "print(smaller_df['path'].values[:10])"
   ]
  },
  {
   "cell_type": "code",
   "execution_count": null,
   "id": "38908fa7",
   "metadata": {},
   "outputs": [],
   "source": [
    "for image in X[1000:1010]:\n",
    "    plt.imshow(image)\n",
    "    plt.show()"
   ]
  },
  {
   "cell_type": "code",
   "execution_count": null,
   "id": "8c3f3dcf",
   "metadata": {},
   "outputs": [],
   "source": [
    "print(predictions)"
   ]
  },
  {
   "cell_type": "code",
   "execution_count": null,
   "id": "642dc93a",
   "metadata": {},
   "outputs": [],
   "source": [
    "'15-29-59'"
   ]
  },
  {
   "cell_type": "code",
   "execution_count": null,
   "id": "04be6758",
   "metadata": {},
   "outputs": [],
   "source": [
    "time_slots = []\n",
    "for current_time in df['time']:\n",
    "    current_hour = int(current_time.split('-')[0])\n",
    "    if current_hour == 1: \n",
    "        current_hour = int(current_time.split('-')[1])\n",
    "    if current_hour == 7 or current_hour == 8:\n",
    "        time_slots.append(\"7h-9h\")\n",
    "    elif current_hour == 9 or current_hour == 10:\n",
    "        time_slots.append(\"9h-11h\")\n",
    "    elif current_hour == 15 or current_hour == 16:\n",
    "        time_slots.append(\"9h-11h\")\n",
    "    else:\n",
    "        print(\"pb here :\", current_time)\n",
    "        \n",
    "        "
   ]
  },
  {
   "cell_type": "code",
   "execution_count": null,
   "id": "6c20316f",
   "metadata": {},
   "outputs": [],
   "source": [
    "df['category'] = predictions"
   ]
  },
  {
   "cell_type": "code",
   "execution_count": null,
   "id": "7f5872e8",
   "metadata": {},
   "outputs": [],
   "source": [
    "df['time_slot'] = time_slots"
   ]
  },
  {
   "cell_type": "code",
   "execution_count": null,
   "id": "e44f4fc3",
   "metadata": {},
   "outputs": [],
   "source": [
    "df.to_csv(\"inference_results.csv\")"
   ]
  },
  {
   "cell_type": "code",
   "execution_count": null,
   "id": "a273a5e3",
   "metadata": {},
   "outputs": [],
   "source": [
    "print(confusion_matrix(np.argmax(y_test,axis=1), np.argmax(predictions,axis=1)))\n",
    "print(accuracy_score(np.argmax(y_test,axis=1), np.argmax(predictions,axis=1)))"
   ]
  },
  {
   "cell_type": "code",
   "execution_count": null,
   "id": "a12ab8c4",
   "metadata": {},
   "outputs": [],
   "source": [
    "predictions = model.predict(x_train)"
   ]
  },
  {
   "cell_type": "code",
   "execution_count": null,
   "id": "f908d4c8",
   "metadata": {},
   "outputs": [],
   "source": [
    "print(confusion_matrix(np.argmax(y_train,axis=1), np.argmax(predictions,axis=1)))\n",
    "print(accuracy_score(np.argmax(y_train,axis=1), np.argmax(predictions,axis=1)))"
   ]
  },
  {
   "cell_type": "code",
   "execution_count": null,
   "id": "4b3c7f0a",
   "metadata": {},
   "outputs": [],
   "source": []
  }
 ],
 "metadata": {
  "kernelspec": {
   "display_name": "Python 3 (ipykernel)",
   "language": "python",
   "name": "python3"
  },
  "language_info": {
   "codemirror_mode": {
    "name": "ipython",
    "version": 3
   },
   "file_extension": ".py",
   "mimetype": "text/x-python",
   "name": "python",
   "nbconvert_exporter": "python",
   "pygments_lexer": "ipython3",
   "version": "3.7.9"
  }
 },
 "nbformat": 4,
 "nbformat_minor": 5
}
